{
 "cells": [
  {
   "cell_type": "markdown",
   "metadata": {},
   "source": [
    "# EDA General Framework Notebook"
   ]
  },
  {
   "cell_type": "code",
   "execution_count": 2,
   "metadata": {},
   "outputs": [],
   "source": [
    "import pandas as pd\n",
    "import numpy as np\n",
    "import matplotlib as mpl\n",
    "import matplotlib.pyplot as plt\n",
    "%matplotlib inline\n",
    "import seaborn as sns\n",
    "import scipy.stats as st\n",
    "from sklearn import ensemble, tree, linear_model\n",
    "#import missingno as msno"
   ]
  },
  {
   "cell_type": "markdown",
   "metadata": {},
   "source": [
    "### Medium general article\n",
    "https://towardsdatascience.com/exploratory-data-analysis-in-python-c9a77dfa39ce\n",
    "\n",
    "1. Import libraries\n",
    "2. Load df + head/tail\n",
    "3. Check datatypes\n",
    "4. Drop irrelevant cols\n",
    "5. Rename cols\n",
    "6. Drop duplicate rows\n",
    "7. Drop (or fill) missing/null values\n",
    "8. Detect outliers w/ visualization\n",
    "9. Plot features (hist, scatter, heatmap, ...)\n",
    "\n",
    "-> Full visualization tutorial: https://towardsdatascience.com/a-step-by-step-guide-for-creating-advanced-python-data-visualizations-with-seaborn-matplotlib-1579d6a1a7d0"
   ]
  },
  {
   "cell_type": "markdown",
   "metadata": {},
   "source": [
    "--------------------------------------------\n",
    "### Kaggle House Prices EDA\n",
    "https://www.kaggle.com/pavansanagapati/a-simple-tutorial-on-exploratory-data-analysis\n",
    "\n",
    "Nice conceptual intro + types and steps EDA"
   ]
  },
  {
   "cell_type": "markdown",
   "metadata": {},
   "source": [
    "### Import data\n",
    "Import data and extract basic stats, plus required preprocessing"
   ]
  },
  {
   "cell_type": "code",
   "execution_count": null,
   "metadata": {},
   "outputs": [],
   "source": [
    "# IMPORT DATA\n",
    "\n",
    "path_train_data = ''\n",
    "path_test_data = ''\n",
    "\n",
    "df_train = pd.read_csv(path_train_data)\n",
    "df_test = pd.read_csv(path_test_data)\n",
    "\n",
    "# BASIC STATS \n",
    "\n",
    "df_train.shape\n",
    "df_test.shape\n",
    "\n",
    "df_train.head()\n",
    "df_train.tail()\n",
    "\n",
    "df_test.head()\n",
    "df_test.head()"
   ]
  },
  {
   "cell_type": "code",
   "execution_count": null,
   "metadata": {},
   "outputs": [],
   "source": [
    "# CHECK DATA TYPES\n",
    "\n",
    "df_train.dtypes\n",
    "df_test.dtypes"
   ]
  },
  {
   "cell_type": "markdown",
   "metadata": {},
   "source": [
    "If the data type of some variables, especially dates, does not match with the proper one, it is better to change it right away\n",
    "\n",
    "https://stackoverflow.com/questions/15891038/change-data-type-of-columns-in-pandas"
   ]
  },
  {
   "cell_type": "code",
   "execution_count": null,
   "metadata": {},
   "outputs": [],
   "source": [
    "# Date\n",
    "date_cols = []\n",
    "date_format = ''\n",
    "\n",
    "df_train[date_cols] = pd.to_datetime(df_train[date_cols], format=date_format)\n",
    "df_test[date_cols] = pd.to_datetime(df_test[date_cols], format=date_format)"
   ]
  },
  {
   "cell_type": "code",
   "execution_count": null,
   "metadata": {},
   "outputs": [],
   "source": [
    "# PANDAS DESCRIPTIVE STATS (Both train and test?)\n",
    "\n",
    "df_train.describe()\n",
    "df_test.describe()\n",
    "\n",
    "# What else?"
   ]
  },
  {
   "cell_type": "code",
   "execution_count": null,
   "metadata": {},
   "outputs": [],
   "source": [
    "# SPLIT NUMERIC, CATEGORICAL AND DATES\n",
    "\n",
    "numeric_features = df_train.select_dtypes(include=np.number)\n",
    "categorical_features = df_train.select_dtypes(include=np.object)"
   ]
  }
 ],
 "metadata": {
  "kernelspec": {
   "display_name": "Python 3",
   "language": "python",
   "name": "python3"
  },
  "language_info": {
   "codemirror_mode": {
    "name": "ipython",
    "version": 3
   },
   "file_extension": ".py",
   "mimetype": "text/x-python",
   "name": "python",
   "nbconvert_exporter": "python",
   "pygments_lexer": "ipython3",
   "version": "3.8.3"
  }
 },
 "nbformat": 4,
 "nbformat_minor": 4
}
